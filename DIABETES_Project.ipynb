{
 "cells": [
  {
   "cell_type": "code",
   "execution_count": 1,
   "id": "8ca8f6b3",
   "metadata": {},
   "outputs": [],
   "source": [
    "import numpy as np\n",
    "from numpy.testing import assert_array_almost_equal, assert_array_equal\n",
    "import matplotlib.pyplot as plt\n",
    "import pandas as pd\n",
    "import seaborn as sns\n",
    "%matplotlib inline"
   ]
  },
  {
   "cell_type": "code",
   "execution_count": 2,
   "id": "7fdae774",
   "metadata": {},
   "outputs": [],
   "source": [
    "diabetes=pd.read_csv('diabetes.csv')"
   ]
  },
  {
   "cell_type": "code",
   "execution_count": 3,
   "id": "4f38a268",
   "metadata": {},
   "outputs": [],
   "source": [
    "#Use pandas to find a description of each column with the outcome being 0 or 1\n",
    "AverageZeros=diabetes[diabetes['Outcome']==0].describe().T\n",
    "AverageOnes=diabetes[diabetes['Outcome']==1].describe().T\n"
   ]
  },
  {
   "cell_type": "code",
   "execution_count": 4,
   "id": "b5815b7f",
   "metadata": {},
   "outputs": [
    {
     "data": {
      "text/html": [
       "<div>\n",
       "<style scoped>\n",
       "    .dataframe tbody tr th:only-of-type {\n",
       "        vertical-align: middle;\n",
       "    }\n",
       "\n",
       "    .dataframe tbody tr th {\n",
       "        vertical-align: top;\n",
       "    }\n",
       "\n",
       "    .dataframe thead th {\n",
       "        text-align: right;\n",
       "    }\n",
       "</style>\n",
       "<table border=\"1\" class=\"dataframe\">\n",
       "  <thead>\n",
       "    <tr style=\"text-align: right;\">\n",
       "      <th></th>\n",
       "      <th>count</th>\n",
       "      <th>mean</th>\n",
       "      <th>std</th>\n",
       "      <th>min</th>\n",
       "      <th>25%</th>\n",
       "      <th>50%</th>\n",
       "      <th>75%</th>\n",
       "      <th>max</th>\n",
       "    </tr>\n",
       "  </thead>\n",
       "  <tbody>\n",
       "    <tr>\n",
       "      <th>Pregnancies</th>\n",
       "      <td>500.0</td>\n",
       "      <td>3.298000</td>\n",
       "      <td>3.017185</td>\n",
       "      <td>0.000</td>\n",
       "      <td>1.00000</td>\n",
       "      <td>2.000</td>\n",
       "      <td>5.00000</td>\n",
       "      <td>13.000</td>\n",
       "    </tr>\n",
       "    <tr>\n",
       "      <th>Glucose</th>\n",
       "      <td>500.0</td>\n",
       "      <td>109.980000</td>\n",
       "      <td>26.141200</td>\n",
       "      <td>0.000</td>\n",
       "      <td>93.00000</td>\n",
       "      <td>107.000</td>\n",
       "      <td>125.00000</td>\n",
       "      <td>197.000</td>\n",
       "    </tr>\n",
       "    <tr>\n",
       "      <th>BloodPressure</th>\n",
       "      <td>500.0</td>\n",
       "      <td>68.184000</td>\n",
       "      <td>18.063075</td>\n",
       "      <td>0.000</td>\n",
       "      <td>62.00000</td>\n",
       "      <td>70.000</td>\n",
       "      <td>78.00000</td>\n",
       "      <td>122.000</td>\n",
       "    </tr>\n",
       "    <tr>\n",
       "      <th>SkinThickness</th>\n",
       "      <td>500.0</td>\n",
       "      <td>19.664000</td>\n",
       "      <td>14.889947</td>\n",
       "      <td>0.000</td>\n",
       "      <td>0.00000</td>\n",
       "      <td>21.000</td>\n",
       "      <td>31.00000</td>\n",
       "      <td>60.000</td>\n",
       "    </tr>\n",
       "    <tr>\n",
       "      <th>Insulin</th>\n",
       "      <td>500.0</td>\n",
       "      <td>68.792000</td>\n",
       "      <td>98.865289</td>\n",
       "      <td>0.000</td>\n",
       "      <td>0.00000</td>\n",
       "      <td>39.000</td>\n",
       "      <td>105.00000</td>\n",
       "      <td>744.000</td>\n",
       "    </tr>\n",
       "    <tr>\n",
       "      <th>BMI</th>\n",
       "      <td>500.0</td>\n",
       "      <td>30.304200</td>\n",
       "      <td>7.689855</td>\n",
       "      <td>0.000</td>\n",
       "      <td>25.40000</td>\n",
       "      <td>30.050</td>\n",
       "      <td>35.30000</td>\n",
       "      <td>57.300</td>\n",
       "    </tr>\n",
       "    <tr>\n",
       "      <th>DiabetesPedigreeFunction</th>\n",
       "      <td>500.0</td>\n",
       "      <td>0.429734</td>\n",
       "      <td>0.299085</td>\n",
       "      <td>0.078</td>\n",
       "      <td>0.22975</td>\n",
       "      <td>0.336</td>\n",
       "      <td>0.56175</td>\n",
       "      <td>2.329</td>\n",
       "    </tr>\n",
       "    <tr>\n",
       "      <th>Age</th>\n",
       "      <td>500.0</td>\n",
       "      <td>31.190000</td>\n",
       "      <td>11.667655</td>\n",
       "      <td>21.000</td>\n",
       "      <td>23.00000</td>\n",
       "      <td>27.000</td>\n",
       "      <td>37.00000</td>\n",
       "      <td>81.000</td>\n",
       "    </tr>\n",
       "    <tr>\n",
       "      <th>Outcome</th>\n",
       "      <td>500.0</td>\n",
       "      <td>0.000000</td>\n",
       "      <td>0.000000</td>\n",
       "      <td>0.000</td>\n",
       "      <td>0.00000</td>\n",
       "      <td>0.000</td>\n",
       "      <td>0.00000</td>\n",
       "      <td>0.000</td>\n",
       "    </tr>\n",
       "  </tbody>\n",
       "</table>\n",
       "</div>"
      ],
      "text/plain": [
       "                          count        mean        std     min       25%  \\\n",
       "Pregnancies               500.0    3.298000   3.017185   0.000   1.00000   \n",
       "Glucose                   500.0  109.980000  26.141200   0.000  93.00000   \n",
       "BloodPressure             500.0   68.184000  18.063075   0.000  62.00000   \n",
       "SkinThickness             500.0   19.664000  14.889947   0.000   0.00000   \n",
       "Insulin                   500.0   68.792000  98.865289   0.000   0.00000   \n",
       "BMI                       500.0   30.304200   7.689855   0.000  25.40000   \n",
       "DiabetesPedigreeFunction  500.0    0.429734   0.299085   0.078   0.22975   \n",
       "Age                       500.0   31.190000  11.667655  21.000  23.00000   \n",
       "Outcome                   500.0    0.000000   0.000000   0.000   0.00000   \n",
       "\n",
       "                              50%        75%      max  \n",
       "Pregnancies                 2.000    5.00000   13.000  \n",
       "Glucose                   107.000  125.00000  197.000  \n",
       "BloodPressure              70.000   78.00000  122.000  \n",
       "SkinThickness              21.000   31.00000   60.000  \n",
       "Insulin                    39.000  105.00000  744.000  \n",
       "BMI                        30.050   35.30000   57.300  \n",
       "DiabetesPedigreeFunction    0.336    0.56175    2.329  \n",
       "Age                        27.000   37.00000   81.000  \n",
       "Outcome                     0.000    0.00000    0.000  "
      ]
     },
     "execution_count": 4,
     "metadata": {},
     "output_type": "execute_result"
    }
   ],
   "source": [
    "AverageZeros"
   ]
  },
  {
   "cell_type": "code",
   "execution_count": 5,
   "id": "a69fd330",
   "metadata": {},
   "outputs": [
    {
     "data": {
      "text/html": [
       "<div>\n",
       "<style scoped>\n",
       "    .dataframe tbody tr th:only-of-type {\n",
       "        vertical-align: middle;\n",
       "    }\n",
       "\n",
       "    .dataframe tbody tr th {\n",
       "        vertical-align: top;\n",
       "    }\n",
       "\n",
       "    .dataframe thead th {\n",
       "        text-align: right;\n",
       "    }\n",
       "</style>\n",
       "<table border=\"1\" class=\"dataframe\">\n",
       "  <thead>\n",
       "    <tr style=\"text-align: right;\">\n",
       "      <th></th>\n",
       "      <th>count</th>\n",
       "      <th>mean</th>\n",
       "      <th>std</th>\n",
       "      <th>min</th>\n",
       "      <th>25%</th>\n",
       "      <th>50%</th>\n",
       "      <th>75%</th>\n",
       "      <th>max</th>\n",
       "    </tr>\n",
       "  </thead>\n",
       "  <tbody>\n",
       "    <tr>\n",
       "      <th>Pregnancies</th>\n",
       "      <td>268.0</td>\n",
       "      <td>4.865672</td>\n",
       "      <td>3.741239</td>\n",
       "      <td>0.000</td>\n",
       "      <td>1.7500</td>\n",
       "      <td>4.000</td>\n",
       "      <td>8.000</td>\n",
       "      <td>17.00</td>\n",
       "    </tr>\n",
       "    <tr>\n",
       "      <th>Glucose</th>\n",
       "      <td>268.0</td>\n",
       "      <td>141.257463</td>\n",
       "      <td>31.939622</td>\n",
       "      <td>0.000</td>\n",
       "      <td>119.0000</td>\n",
       "      <td>140.000</td>\n",
       "      <td>167.000</td>\n",
       "      <td>199.00</td>\n",
       "    </tr>\n",
       "    <tr>\n",
       "      <th>BloodPressure</th>\n",
       "      <td>268.0</td>\n",
       "      <td>70.824627</td>\n",
       "      <td>21.491812</td>\n",
       "      <td>0.000</td>\n",
       "      <td>66.0000</td>\n",
       "      <td>74.000</td>\n",
       "      <td>82.000</td>\n",
       "      <td>114.00</td>\n",
       "    </tr>\n",
       "    <tr>\n",
       "      <th>SkinThickness</th>\n",
       "      <td>268.0</td>\n",
       "      <td>22.164179</td>\n",
       "      <td>17.679711</td>\n",
       "      <td>0.000</td>\n",
       "      <td>0.0000</td>\n",
       "      <td>27.000</td>\n",
       "      <td>36.000</td>\n",
       "      <td>99.00</td>\n",
       "    </tr>\n",
       "    <tr>\n",
       "      <th>Insulin</th>\n",
       "      <td>268.0</td>\n",
       "      <td>100.335821</td>\n",
       "      <td>138.689125</td>\n",
       "      <td>0.000</td>\n",
       "      <td>0.0000</td>\n",
       "      <td>0.000</td>\n",
       "      <td>167.250</td>\n",
       "      <td>846.00</td>\n",
       "    </tr>\n",
       "    <tr>\n",
       "      <th>BMI</th>\n",
       "      <td>268.0</td>\n",
       "      <td>35.142537</td>\n",
       "      <td>7.262967</td>\n",
       "      <td>0.000</td>\n",
       "      <td>30.8000</td>\n",
       "      <td>34.250</td>\n",
       "      <td>38.775</td>\n",
       "      <td>67.10</td>\n",
       "    </tr>\n",
       "    <tr>\n",
       "      <th>DiabetesPedigreeFunction</th>\n",
       "      <td>268.0</td>\n",
       "      <td>0.550500</td>\n",
       "      <td>0.372354</td>\n",
       "      <td>0.088</td>\n",
       "      <td>0.2625</td>\n",
       "      <td>0.449</td>\n",
       "      <td>0.728</td>\n",
       "      <td>2.42</td>\n",
       "    </tr>\n",
       "    <tr>\n",
       "      <th>Age</th>\n",
       "      <td>268.0</td>\n",
       "      <td>37.067164</td>\n",
       "      <td>10.968254</td>\n",
       "      <td>21.000</td>\n",
       "      <td>28.0000</td>\n",
       "      <td>36.000</td>\n",
       "      <td>44.000</td>\n",
       "      <td>70.00</td>\n",
       "    </tr>\n",
       "    <tr>\n",
       "      <th>Outcome</th>\n",
       "      <td>268.0</td>\n",
       "      <td>1.000000</td>\n",
       "      <td>0.000000</td>\n",
       "      <td>1.000</td>\n",
       "      <td>1.0000</td>\n",
       "      <td>1.000</td>\n",
       "      <td>1.000</td>\n",
       "      <td>1.00</td>\n",
       "    </tr>\n",
       "  </tbody>\n",
       "</table>\n",
       "</div>"
      ],
      "text/plain": [
       "                          count        mean         std     min       25%  \\\n",
       "Pregnancies               268.0    4.865672    3.741239   0.000    1.7500   \n",
       "Glucose                   268.0  141.257463   31.939622   0.000  119.0000   \n",
       "BloodPressure             268.0   70.824627   21.491812   0.000   66.0000   \n",
       "SkinThickness             268.0   22.164179   17.679711   0.000    0.0000   \n",
       "Insulin                   268.0  100.335821  138.689125   0.000    0.0000   \n",
       "BMI                       268.0   35.142537    7.262967   0.000   30.8000   \n",
       "DiabetesPedigreeFunction  268.0    0.550500    0.372354   0.088    0.2625   \n",
       "Age                       268.0   37.067164   10.968254  21.000   28.0000   \n",
       "Outcome                   268.0    1.000000    0.000000   1.000    1.0000   \n",
       "\n",
       "                              50%      75%     max  \n",
       "Pregnancies                 4.000    8.000   17.00  \n",
       "Glucose                   140.000  167.000  199.00  \n",
       "BloodPressure              74.000   82.000  114.00  \n",
       "SkinThickness              27.000   36.000   99.00  \n",
       "Insulin                     0.000  167.250  846.00  \n",
       "BMI                        34.250   38.775   67.10  \n",
       "DiabetesPedigreeFunction    0.449    0.728    2.42  \n",
       "Age                        36.000   44.000   70.00  \n",
       "Outcome                     1.000    1.000    1.00  "
      ]
     },
     "execution_count": 5,
     "metadata": {},
     "output_type": "execute_result"
    }
   ],
   "source": [
    "AverageOnes"
   ]
  },
  {
   "cell_type": "code",
   "execution_count": 6,
   "id": "1433f8ac",
   "metadata": {},
   "outputs": [],
   "source": [
    "def standardise(data_matrix):\n",
    "    row_of_means = np.mean(data_matrix, axis=0)\n",
    "    standardised_matrix = data_matrix - row_of_means\n",
    "    row_of_stds = np.std(standardised_matrix, axis=0)\n",
    "    return (standardised_matrix / row_of_stds), row_of_means, row_of_stds\n",
    "\n",
    "\n",
    "def de_standardise(standardised_matrix, row_of_means, row_of_stds):\n",
    "    matrix = np.copy(standardised_matrix * row_of_stds)\n",
    "    return matrix + row_of_means\n"
   ]
  },
  {
   "cell_type": "code",
   "execution_count": 7,
   "id": "36725b11",
   "metadata": {},
   "outputs": [],
   "source": [
    "diabetes_dataset_path = \"diabetes.csv\"\n",
    "pregnancies = np.genfromtxt(diabetes_dataset_path,\n",
    "                    delimiter=\",\",\n",
    "                    skip_header=1,\n",
    "                    usecols=[0]).astype(int)\n",
    "glucose = np.genfromtxt(diabetes_dataset_path,\n",
    "                     delimiter=\",\",\n",
    "                     skip_header=1,\n",
    "                     usecols=[1]).astype(int)\n",
    "Blood_pressure = np.genfromtxt(diabetes_dataset_path,\n",
    "                                delimiter=\",\",\n",
    "                                skip_header=1,\n",
    "                                usecols=[2]).astype(int)\n",
    "Skin_thickness = np.genfromtxt(diabetes_dataset_path,\n",
    "                             delimiter=\",\",\n",
    "                             skip_header=1,\n",
    "                             usecols=[3]).astype(int)\n",
    "Insulin = np.genfromtxt(diabetes_dataset_path,\n",
    "                                 delimiter=\",\",\n",
    "                                 skip_header=1,\n",
    "                                 usecols=[4]).astype(int)\n",
    "BMI = np.genfromtxt(diabetes_dataset_path,\n",
    "                         delimiter=\",\",\n",
    "                         skip_header=1,\n",
    "                         usecols=[5]).astype(float)\n",
    "Pedigree = np.genfromtxt(diabetes_dataset_path,\n",
    "                         delimiter=\",\",\n",
    "                         skip_header=1,\n",
    "                         usecols=[6]).astype(float)\n",
    "Age = np.genfromtxt(diabetes_dataset_path,\n",
    "                         delimiter=\",\",\n",
    "                         skip_header=1,\n",
    "                         usecols=[7]).astype(int)\n",
    "outcome = np.genfromtxt(diabetes_dataset_path,\n",
    "                         delimiter=\",\",\n",
    "                         skip_header=1,\n",
    "                         usecols=[8]).astype(int)\n",
    "diabetes_input = np.c_[pregnancies,glucose,Blood_pressure,Skin_thickness,Insulin,BMI,Pedigree,Age]\n",
    "diabetes_labels = outcome.reshape(-1, 1)\n",
    "diabetes_input, diabetes_row_of_means, diabetes_row_of_stds = standardise(diabetes_input)"
   ]
  },
  {
   "cell_type": "code",
   "execution_count": 8,
   "id": "d87f94a0",
   "metadata": {},
   "outputs": [],
   "source": [
    "def plot_diabetes(data_input, data_output):\n",
    "    characteristics_names =['Pregnancies', 'Glucose','BloodPressure','SkinThicnkess', 'Insulin', 'BMI', 'DiabetesPedigreeFunction', 'Age']\n",
    "    number_of_characteristics = data_input.shape[1]\n",
    "    diabetes_de_standardised = de_standardise(data_input, diabetes_row_of_means,\n",
    "                                             diabetes_row_of_stds)\n",
    "    diabetes_dataframe = pd.DataFrame(data=diabetes_de_standardised,\n",
    "                                     columns=characteristics_names)\n",
    "    diabetes_dataframe['Outcome'] = data_output\n",
    "    sns.set_theme(style=\"ticks\", color_codes=True)\n",
    "    g = sns.PairGrid(diabetes_dataframe,\n",
    "                     vars=diabetes_dataframe[:-1],\n",
    "                     hue='Outcome')\n",
    "    g.map_offdiag(sns.scatterplot)\n",
    "    g.map_diag(plt.hist)\n",
    "    plt.show()\n",
    "    plt.tight_layout"
   ]
  },
  {
   "cell_type": "code",
   "execution_count": 9,
   "id": "b3d65ec6",
   "metadata": {},
   "outputs": [],
   "source": [
    "# plot_diabetes(diabetes_input,diabetes_labels)"
   ]
  },
  {
   "cell_type": "code",
   "execution_count": 10,
   "id": "27b95ace",
   "metadata": {},
   "outputs": [],
   "source": [
    "def linear_regression_data(data_inputs):\n",
    "    first_column = np.ones((len(data_inputs), 1))\n",
    "    X_matrix = np.c_[first_column, data_inputs]\n",
    "    return X_matrix"
   ]
  },
  {
   "cell_type": "code",
   "execution_count": 11,
   "id": "ef72b3d3",
   "metadata": {},
   "outputs": [],
   "source": [
    "def model_function(data_matrix, weights):\n",
    "    return data_matrix @ weights"
   ]
  },
  {
   "cell_type": "code",
   "execution_count": 12,
   "id": "1bbaa9d0",
   "metadata": {},
   "outputs": [],
   "source": [
    "def logistic_function(inputs):\n",
    "    return 1 / (1 + np.exp(-inputs))"
   ]
  },
  {
   "cell_type": "code",
   "execution_count": 13,
   "id": "ab921ab7",
   "metadata": {},
   "outputs": [],
   "source": [
    "def binary_prediction_function(data_matrix, weights):\n",
    "    probability = logistic_function(model_function(data_matrix, weights))\n",
    "    return probability > 1/2"
   ]
  },
  {
   "cell_type": "code",
   "execution_count": 14,
   "id": "442f8f9c",
   "metadata": {},
   "outputs": [],
   "source": [
    "def gradient_descent(objective,gradient,initial_weights,step_size=1,no_of_iterations=100,print_output=10):\n",
    "    \n",
    "    objective_values = []\n",
    "    weights = np.copy(initial_weights)\n",
    "    objective_values.append(objective(weights))\n",
    "    \n",
    "    for counter in range(no_of_iterations):\n",
    "        weights -= step_size * gradient(weights)\n",
    "        objective_values.append(objective(weights))\n",
    "        if (counter + 1) % print_output == 0:\n",
    "            print(\"Iteration {k}/{m}, objective = {o}.\".format(k=counter+1,m=no_of_iterations, \n",
    "                                                               o=objective_values[counter]))\n",
    "            \n",
    "    print(\"Iteration completed after {k}/{m}, objective = {o}.\".format(k=counter+ 1,\n",
    "                                                                       m=no_of_iterations, \n",
    "                                                                       o=objective_values[counter]))\n",
    "    return weights, objective_values"
   ]
  },
  {
   "cell_type": "code",
   "execution_count": 15,
   "id": "650a1a0d",
   "metadata": {},
   "outputs": [],
   "source": [
    "def binary_logistic_regression_cost_function(data_matrix, data_labels,weights):\n",
    "    regression_outputs = model_function(data_matrix, weights)\n",
    "    return np.mean(np.log(1 + np.exp(regression_outputs)) -data_labels * regression_outputs)\n"
   ]
  },
  {
   "cell_type": "code",
   "execution_count": 16,
   "id": "9808aa6b",
   "metadata": {},
   "outputs": [],
   "source": [
    "def binary_logistic_regression_gradient(data_matrix, data_labels, weights):\n",
    "    return data_matrix.T @ (logistic_function(model_function(data_matrix, weights)) - data_labels) / len(data_matrix)"
   ]
  },
  {
   "cell_type": "code",
   "execution_count": 17,
   "id": "4ce032b8",
   "metadata": {},
   "outputs": [],
   "source": [
    "def classification_accuracy(estimated_labels, true_labels):\n",
    "    equal_labels = estimated_labels == true_labels # this returns an array made of true and false \n",
    "    return np.mean(equal_labels) # the average is how many true we have\n"
   ]
  },
  {
   "cell_type": "code",
   "execution_count": 18,
   "id": "aa8d62cc",
   "metadata": {},
   "outputs": [],
   "source": [
    "# performs a data split of a given dataset into two sets; one for testing, and one for cross-validation.\n",
    "def data_split(data_matrix, validation_ratio):\n",
    "    data_size = len(data_matrix)\n",
    "    validation_size = int(round(data_size*validation_ratio,0))\n",
    "    rows_indexes = np.random.choice(data_size,validation_size, replace = False)\n",
    "    validation_data = data_matrix[rows_indexes,:]\n",
    "    training_data = np.delete(data_matrix, obj = rows_indexes, axis = 0)\n",
    "    \n",
    "    return training_data, validation_data"
   ]
  },
  {
   "cell_type": "code",
   "execution_count": 19,
   "id": "186cf64e",
   "metadata": {},
   "outputs": [],
   "source": [
    "#Testing with all the inputs\n",
    "data_inputs = diabetes_input\n",
    "data_outputs = outcome\n",
    "\n",
    "data_matrix = np.c_[data_inputs, data_outputs]\n",
    "\n",
    "training_data, validation_data = data_split(data_matrix, 0.2)\n",
    "\n",
    "training_data_inputs=training_data[:,:-1]\n",
    "training_data_outputs=training_data[:,-1].reshape(-1, 1)\n",
    "\n",
    "validation_data_inputs=validation_data[:,:-1]\n",
    "validation_data_outputs=validation_data[:,-1].reshape(-1, 1)"
   ]
  },
  {
   "cell_type": "code",
   "execution_count": 20,
   "id": "3e98adc7",
   "metadata": {},
   "outputs": [
    {
     "name": "stdout",
     "output_type": "stream",
     "text": [
      "Iteration 200/2000, objective = 0.45683129568089914.\n",
      "Iteration 400/2000, objective = 0.4568308685375703.\n",
      "Iteration 600/2000, objective = 0.45683086852214444.\n",
      "Iteration 800/2000, objective = 0.4568308685221438.\n",
      "Iteration 1000/2000, objective = 0.4568308685221439.\n",
      "Iteration 1200/2000, objective = 0.4568308685221439.\n",
      "Iteration 1400/2000, objective = 0.4568308685221438.\n",
      "Iteration 1600/2000, objective = 0.4568308685221438.\n",
      "Iteration 1800/2000, objective = 0.4568308685221438.\n",
      "Iteration 2000/2000, objective = 0.4568308685221438.\n",
      "Iteration completed after 2000/2000, objective = 0.4568308685221438.\n"
     ]
    }
   ],
   "source": [
    "diabetes_data_matrix = linear_regression_data(training_data_inputs)\n",
    "\n",
    "diabetes_cost_function = lambda weights: binary_logistic_regression_cost_function(diabetes_data_matrix,\n",
    "                                                                                 training_data_outputs, weights)\n",
    "diabetes_gradient_function = lambda weights: binary_logistic_regression_gradient(diabetes_data_matrix,\n",
    "                                                                                training_data_outputs, weights)\n",
    "\n",
    "diabetes_initial_weights = np.zeros((len(diabetes_data_matrix.T), 1))\n",
    "\n",
    "diabetes_step_size = 3.9 * len(diabetes_data_matrix) / (np.linalg.norm(diabetes_data_matrix))**2\n",
    "\n",
    "diabetes_optimal_weights, diabetes_objective_values_ =gradient_descent(diabetes_cost_function,\n",
    "                                                                     diabetes_gradient_function,\n",
    "                                                                     diabetes_initial_weights,\n",
    "                                                                     diabetes_step_size,2000, 200)\n",
    "\n",
    "predicted_labels= binary_prediction_function(diabetes_data_matrix,diabetes_optimal_weights)\n",
    "\n",
    "diabetes_accuracy_rate = classification_accuracy(predicted_labels,training_data_outputs)"
   ]
  },
  {
   "cell_type": "code",
   "execution_count": 21,
   "id": "23774f76",
   "metadata": {},
   "outputs": [
    {
     "name": "stdout",
     "output_type": "stream",
     "text": [
      "The optimal weights are w = [[-0.85555271  0.51884788  1.16153491 -0.24411194  0.02302342 -0.08663452\n",
      "   0.74731685  0.32794261  0.14865107]].T.\n",
      "The classification accuracy for the training set is 78.50162866449512 %.\n"
     ]
    }
   ],
   "source": [
    "print(\"The optimal weights are w = {w}.T.\".format(w=diabetes_optimal_weights.T))\n",
    "print(\"The classification accuracy for the training set is {p} %.\".format(\n",
    "    p=100 * diabetes_accuracy_rate))"
   ]
  },
  {
   "cell_type": "code",
   "execution_count": 22,
   "id": "9dd2626b",
   "metadata": {},
   "outputs": [
    {
     "name": "stdout",
     "output_type": "stream",
     "text": [
      "The optimal weights are w = [[-0.85555271  0.51884788  1.16153491 -0.24411194  0.02302342 -0.08663452\n",
      "   0.74731685  0.32794261  0.14865107]].T.\n",
      "The classification accuracy for the 'Validation Set is 74.02597402597402 %.\n"
     ]
    }
   ],
   "source": [
    "diabetes_data_matrix = linear_regression_data(validation_data_inputs)\n",
    "\n",
    "predicted_labels= binary_prediction_function(diabetes_data_matrix, diabetes_optimal_weights)\n",
    "\n",
    "diabetes_accuracy_rate = classification_accuracy(predicted_labels,validation_data_outputs)\n",
    "\n",
    "print(\"The optimal weights are w = {w}.T.\".format(w=diabetes_optimal_weights.T))\n",
    "print(\"The classification accuracy for the 'Validation Set is {p} %.\".format(\n",
    "    p=100 * diabetes_accuracy_rate))"
   ]
  },
  {
   "cell_type": "code",
   "execution_count": 23,
   "id": "787e3ed9",
   "metadata": {},
   "outputs": [
    {
     "name": "stdout",
     "output_type": "stream",
     "text": [
      "Iteration 200/2000, objective = 0.4724434291943926.\n",
      "Iteration 400/2000, objective = 0.4724433526297476.\n",
      "Iteration 600/2000, objective = 0.4724433526293949.\n",
      "Iteration 800/2000, objective = 0.4724433526293949.\n",
      "Iteration 1000/2000, objective = 0.47244335262939496.\n",
      "Iteration 1200/2000, objective = 0.4724433526293949.\n",
      "Iteration 1400/2000, objective = 0.4724433526293949.\n",
      "Iteration 1600/2000, objective = 0.4724433526293949.\n",
      "Iteration 1800/2000, objective = 0.4724433526293949.\n",
      "Iteration 2000/2000, objective = 0.4724433526293949.\n",
      "Iteration completed after 2000/2000, objective = 0.4724433526293949.\n",
      "The optimal weights are w = [[-0.87274955  0.44896597  1.19997106 -0.2446524  -0.09638635  0.61210588\n",
      "   0.31123762  0.08856728]].T.\n",
      "The classification accuracy for the training set is 77.52442996742671 %.\n"
     ]
    }
   ],
   "source": [
    "#Testing without input Skin_thickness\n",
    "diabetes_input = np.c_[pregnancies,glucose,Blood_pressure,Insulin,BMI,Pedigree,Age]\n",
    "diabetes_labels = outcome.reshape(-1, 1)\n",
    "diabetes_input, diabetes_row_of_means, diabetes_row_of_stds = standardise(diabetes_input)\n",
    "\n",
    "data_inputs = diabetes_input\n",
    "data_outputs = outcome\n",
    "\n",
    "data_matrix = np.c_[data_inputs, data_outputs]\n",
    "\n",
    "training_data, validation_data = data_split(data_matrix, 0.2)\n",
    "\n",
    "training_data_inputs=training_data[:,:-1]\n",
    "training_data_outputs=training_data[:,-1].reshape(-1, 1)\n",
    "\n",
    "validation_data_inputs=validation_data[:,:-1]\n",
    "validation_data_outputs=validation_data[:,-1].reshape(-1, 1)\n",
    "\n",
    "diabetes_data_matrix = linear_regression_data(training_data_inputs)\n",
    "\n",
    "diabetes_cost_function = lambda weights: binary_logistic_regression_cost_function(diabetes_data_matrix,\n",
    "                                                                                 training_data_outputs, weights)\n",
    "diabetes_gradient_function = lambda weights: binary_logistic_regression_gradient(diabetes_data_matrix,\n",
    "                                                                                training_data_outputs, weights)\n",
    "\n",
    "diabetes_initial_weights = np.zeros((len(diabetes_data_matrix.T), 1))\n",
    "\n",
    "diabetes_step_size = 3.9 * len(diabetes_data_matrix) / (np.linalg.norm(diabetes_data_matrix))**2\n",
    "\n",
    "diabetes_optimal_weights, diabetes_objective_values_ =gradient_descent(diabetes_cost_function,\n",
    "                                                                     diabetes_gradient_function,\n",
    "                                                                     diabetes_initial_weights,\n",
    "                                                                     diabetes_step_size,2000, 200)\n",
    "\n",
    "predicted_labels= binary_prediction_function(diabetes_data_matrix,diabetes_optimal_weights)\n",
    "\n",
    "diabetes_accuracy_rate = classification_accuracy(predicted_labels,training_data_outputs)\n",
    "print(\"The optimal weights are w = {w}.T.\".format(w=diabetes_optimal_weights.T))\n",
    "print(\"The classification accuracy for the training set is {p} %.\".format(\n",
    "    p=100 * diabetes_accuracy_rate))\n"
   ]
  },
  {
   "cell_type": "code",
   "execution_count": 24,
   "id": "6798cae8",
   "metadata": {},
   "outputs": [
    {
     "name": "stdout",
     "output_type": "stream",
     "text": [
      "The optimal weights are w = [[-0.87274955  0.44896597  1.19997106 -0.2446524  -0.09638635  0.61210588\n",
      "   0.31123762  0.08856728]].T.\n",
      "The classification accuracy for the 'Validation Set is 79.22077922077922 %.\n"
     ]
    }
   ],
   "source": [
    "diabetes_data_matrix = linear_regression_data(validation_data_inputs)\n",
    "\n",
    "predicted_labels= binary_prediction_function(diabetes_data_matrix, diabetes_optimal_weights)\n",
    "\n",
    "diabetes_accuracy_rate = classification_accuracy(predicted_labels,validation_data_outputs)\n",
    "\n",
    "print(\"The optimal weights are w = {w}.T.\".format(w=diabetes_optimal_weights.T))\n",
    "print(\"The classification accuracy for the 'Validation Set is {p} %.\".format(\n",
    "    p=100 * diabetes_accuracy_rate))"
   ]
  },
  {
   "cell_type": "code",
   "execution_count": 25,
   "id": "246471ab",
   "metadata": {},
   "outputs": [
    {
     "data": {
      "text/plain": [
       "<AxesSubplot:xlabel='Outcome', ylabel='SkinThickness'>"
      ]
     },
     "execution_count": 25,
     "metadata": {},
     "output_type": "execute_result"
    },
    {
     "data": {
      "image/png": "[encoded data removed]",
      "text/plain": [
       "<Figure size 432x288 with 1 Axes>"
      ]
     },
     "metadata": {},
     "output_type": "display_data"
    }
   ],
   "source": [
    "#Box PLot of Skin Thickness split between the Outcomes(0,1)\n",
    "sns.set_style(\"whitegrid\")\n",
    "  \n",
    "sns.boxplot(x = 'Outcome', y = 'SkinThickness', data = diabetes)"
   ]
  },
  {
   "cell_type": "code",
   "execution_count": 26,
   "id": "d7fc05a1",
   "metadata": {},
   "outputs": [
    {
     "name": "stdout",
     "output_type": "stream",
     "text": [
      "Iteration 200/2000, objective = 0.5443803584635092.\n",
      "Iteration 400/2000, objective = 0.5443803576124717.\n",
      "Iteration 600/2000, objective = 0.5443803576124717.\n",
      "Iteration 800/2000, objective = 0.5443803576124717.\n",
      "Iteration 1000/2000, objective = 0.5443803576124717.\n",
      "Iteration 1200/2000, objective = 0.5443803576124717.\n",
      "Iteration 1400/2000, objective = 0.5443803576124717.\n",
      "Iteration 1600/2000, objective = 0.5443803576124717.\n",
      "Iteration 1800/2000, objective = 0.5443803576124717.\n",
      "Iteration 2000/2000, objective = 0.5443803576124717.\n",
      "Iteration completed after 2000/2000, objective = 0.5443803576124717.\n",
      "The optimal weights are w = [[-0.78910151  0.33637148 -0.17734861 -0.16757339  0.23755581  0.8026379\n",
      "   0.28298792  0.44622498]].T.\n",
      "The classification accuracy for the training set is 69.54397394136808 %.\n"
     ]
    }
   ],
   "source": [
    "#Testing without the input Glucose\n",
    "diabetes_input = np.c_[pregnancies,Blood_pressure,Skin_thickness,Insulin,BMI,Pedigree,Age]\n",
    "diabetes_labels = outcome.reshape(-1, 1)\n",
    "diabetes_input, diabetes_row_of_means, diabetes_row_of_stds = standardise(diabetes_input)\n",
    "\n",
    "data_inputs = diabetes_input\n",
    "data_outputs = outcome\n",
    "\n",
    "data_matrix = np.c_[data_inputs, data_outputs]\n",
    "\n",
    "training_data, validation_data = data_split(data_matrix, 0.2)\n",
    "\n",
    "training_data_inputs=training_data[:,:-1]\n",
    "training_data_outputs=training_data[:,-1].reshape(-1, 1)\n",
    "\n",
    "validation_data_inputs=validation_data[:,:-1]\n",
    "validation_data_outputs=validation_data[:,-1].reshape(-1, 1)\n",
    "\n",
    "diabetes_data_matrix = linear_regression_data(training_data_inputs)\n",
    "\n",
    "diabetes_cost_function = lambda weights: binary_logistic_regression_cost_function(diabetes_data_matrix,\n",
    "                                                                                 training_data_outputs, weights)\n",
    "diabetes_gradient_function = lambda weights: binary_logistic_regression_gradient(diabetes_data_matrix,\n",
    "                                                                                training_data_outputs, weights)\n",
    "\n",
    "diabetes_initial_weights = np.zeros((len(diabetes_data_matrix.T), 1))\n",
    "\n",
    "diabetes_step_size = 3.9 * len(diabetes_data_matrix) / (np.linalg.norm(diabetes_data_matrix))**2\n",
    "\n",
    "diabetes_optimal_weights, diabetes_objective_values_ =gradient_descent(diabetes_cost_function,\n",
    "                                                                     diabetes_gradient_function,\n",
    "                                                                     diabetes_initial_weights,\n",
    "                                                                     diabetes_step_size,2000, 200)\n",
    "\n",
    "predicted_labels= binary_prediction_function(diabetes_data_matrix,diabetes_optimal_weights)\n",
    "\n",
    "diabetes_accuracy_rate = classification_accuracy(predicted_labels,training_data_outputs)\n",
    "print(\"The optimal weights are w = {w}.T.\".format(w=diabetes_optimal_weights.T))\n",
    "print(\"The classification accuracy for the training set is {p} %.\".format(\n",
    "    p=100 * diabetes_accuracy_rate))\n"
   ]
  },
  {
   "cell_type": "code",
   "execution_count": 27,
   "id": "57753aad",
   "metadata": {},
   "outputs": [
    {
     "name": "stdout",
     "output_type": "stream",
     "text": [
      "The optimal weights are w = [[-0.78910151  0.33637148 -0.17734861 -0.16757339  0.23755581  0.8026379\n",
      "   0.28298792  0.44622498]].T.\n",
      "The classification accuracy for the 'Validation Set is 70.77922077922078 %.\n"
     ]
    }
   ],
   "source": [
    "diabetes_data_matrix = linear_regression_data(validation_data_inputs)\n",
    "\n",
    "predicted_labels= binary_prediction_function(diabetes_data_matrix, diabetes_optimal_weights)\n",
    "\n",
    "diabetes_accuracy_rate = classification_accuracy(predicted_labels,validation_data_outputs)\n",
    "\n",
    "print(\"The optimal weights are w = {w}.T.\".format(w=diabetes_optimal_weights.T))\n",
    "print(\"The classification accuracy for the 'Validation Set is {p} %.\".format(\n",
    "    p=100 * diabetes_accuracy_rate))"
   ]
  },
  {
   "cell_type": "code",
   "execution_count": 28,
   "id": "01b7a728",
   "metadata": {},
   "outputs": [
    {
     "data": {
      "text/plain": [
       "<AxesSubplot:xlabel='Outcome', ylabel='Glucose'>"
      ]
     },
     "execution_count": 28,
     "metadata": {},
     "output_type": "execute_result"
    },
    {
     "data": {
      "image/png": "[encoded data removed]",
      "text/plain": [
       "<Figure size 432x288 with 1 Axes>"
      ]
     },
     "metadata": {},
     "output_type": "display_data"
    }
   ],
   "source": [
    "#Box PLot of Glucose split between the Outcomes(0,1)\n",
    "sns.set_style(\"whitegrid\")\n",
    "  \n",
    "sns.boxplot(x = 'Outcome', y = 'Glucose', data = diabetes)"
   ]
  },
  {
   "cell_type": "code",
   "execution_count": 35,
   "id": "4a690dfd",
   "metadata": {},
   "outputs": [
    {
     "name": "stdout",
     "output_type": "stream",
     "text": [
      "Iteration 200/2000, objective = 0.48439368432768565.\n",
      "Iteration 400/2000, objective = 0.484393680504727.\n",
      "Iteration 600/2000, objective = 0.48439368050472603.\n",
      "Iteration 800/2000, objective = 0.48439368050472603.\n",
      "Iteration 1000/2000, objective = 0.48439368050472603.\n",
      "Iteration 1200/2000, objective = 0.48439368050472603.\n",
      "Iteration 1400/2000, objective = 0.48439368050472603.\n",
      "Iteration 1600/2000, objective = 0.48439368050472603.\n",
      "Iteration 1800/2000, objective = 0.48439368050472603.\n",
      "Iteration 2000/2000, objective = 0.48439368050472603.\n",
      "Iteration completed after 2000/2000, objective = 0.48439368050472603.\n",
      "The optimal weights are w = [[-0.86031326  0.45968383  1.01538612 -0.18155923  0.67171425  0.26461609\n",
      "   0.09390444]].T.\n",
      "The classification accuracy for the training set is 77.0358306188925 %.\n"
     ]
    }
   ],
   "source": [
    "#Testing without the inputs Skin_thickness and Blood_pressure\n",
    "diabetes_input = np.c_[pregnancies,glucose,Insulin,BMI,Pedigree,Age]\n",
    "diabetes_labels = outcome.reshape(-1, 1)\n",
    "diabetes_input, diabetes_row_of_means, diabetes_row_of_stds = standardise(diabetes_input)\n",
    "\n",
    "data_inputs = diabetes_input\n",
    "data_outputs = outcome\n",
    "\n",
    "data_matrix = np.c_[data_inputs, data_outputs]\n",
    "\n",
    "training_data, validation_data = data_split(data_matrix, 0.2)\n",
    "\n",
    "training_data_inputs=training_data[:,:-1]\n",
    "training_data_outputs=training_data[:,-1].reshape(-1, 1)\n",
    "\n",
    "validation_data_inputs=validation_data[:,:-1]\n",
    "validation_data_outputs=validation_data[:,-1].reshape(-1, 1)\n",
    "\n",
    "diabetes_data_matrix = linear_regression_data(training_data_inputs)\n",
    "\n",
    "diabetes_cost_function = lambda weights: binary_logistic_regression_cost_function(diabetes_data_matrix,\n",
    "                                                                                 training_data_outputs, weights)\n",
    "diabetes_gradient_function = lambda weights: binary_logistic_regression_gradient(diabetes_data_matrix,\n",
    "                                                                                training_data_outputs, weights)\n",
    "\n",
    "diabetes_initial_weights = np.zeros((len(diabetes_data_matrix.T), 1))\n",
    "\n",
    "diabetes_step_size = 3.9 * len(diabetes_data_matrix) / (np.linalg.norm(diabetes_data_matrix))**2\n",
    "\n",
    "diabetes_optimal_weights, diabetes_objective_values_ =gradient_descent(diabetes_cost_function,\n",
    "                                                                     diabetes_gradient_function,\n",
    "                                                                     diabetes_initial_weights,\n",
    "                                                                     diabetes_step_size,2000, 200)\n",
    "\n",
    "predicted_labels= binary_prediction_function(diabetes_data_matrix,diabetes_optimal_weights)\n",
    "\n",
    "diabetes_accuracy_rate = classification_accuracy(predicted_labels,training_data_outputs)\n",
    "print(\"The optimal weights are w = {w}.T.\".format(w=diabetes_optimal_weights.T))\n",
    "print(\"The classification accuracy for the training set is {p} %.\".format(\n",
    "    p=100 * diabetes_accuracy_rate))\n"
   ]
  },
  {
   "cell_type": "code",
   "execution_count": 36,
   "id": "eb0cfc08",
   "metadata": {},
   "outputs": [
    {
     "name": "stdout",
     "output_type": "stream",
     "text": [
      "The optimal weights are w = [[-0.86031326  0.45968383  1.01538612 -0.18155923  0.67171425  0.26461609\n",
      "   0.09390444]].T.\n",
      "The classification accuracy for the 'Validation Set is 79.87012987012987 %.\n"
     ]
    }
   ],
   "source": [
    "diabetes_data_matrix = linear_regression_data(validation_data_inputs)\n",
    "\n",
    "predicted_labels= binary_prediction_function(diabetes_data_matrix, diabetes_optimal_weights)\n",
    "\n",
    "diabetes_accuracy_rate = classification_accuracy(predicted_labels,validation_data_outputs)\n",
    "\n",
    "print(\"The optimal weights are w = {w}.T.\".format(w=diabetes_optimal_weights.T))\n",
    "print(\"The classification accuracy for the 'Validation Set is {p} %.\".format(\n",
    "    p=100 * diabetes_accuracy_rate))"
   ]
  },
  {
   "cell_type": "code",
   "execution_count": 37,
   "id": "3ed47632",
   "metadata": {},
   "outputs": [
    {
     "data": {
      "text/plain": [
       "<AxesSubplot:xlabel='Outcome', ylabel='BloodPressure'>"
      ]
     },
     "execution_count": 37,
     "metadata": {},
     "output_type": "execute_result"
    },
    {
     "data": {
      "image/png": "[encoded data removed]",
      "text/plain": [
       "<Figure size 432x288 with 1 Axes>"
      ]
     },
     "metadata": {},
     "output_type": "display_data"
    }
   ],
   "source": [
    "#Box PLot of Blood Pressure split between the Outcomes(0,1)\n",
    "sns.set_style(\"whitegrid\")\n",
    "  \n",
    "sns.boxplot(x = 'Outcome', y = 'BloodPressure', data = diabetes)"
   ]
  },
  {
   "cell_type": "markdown",
   "id": "c495baa9",
   "metadata": {},
   "source": [
    "# KNN"
   ]
  },
  {
   "cell_type": "code",
   "execution_count": 74,
   "id": "7b53dcd8",
   "metadata": {},
   "outputs": [],
   "source": [
    "diabetes_dataset_path = \"diabetes.csv\"\n",
    "pregnancies = np.genfromtxt(diabetes_dataset_path,\n",
    "                    delimiter=\",\",\n",
    "                    skip_header=1,\n",
    "                    usecols=[0]).astype(int)\n",
    "glucose = np.genfromtxt(diabetes_dataset_path,\n",
    "                     delimiter=\",\",\n",
    "                     skip_header=1,\n",
    "                     usecols=[1]).astype(int)\n",
    "Blood_pressure = np.genfromtxt(diabetes_dataset_path,\n",
    "                                delimiter=\",\",\n",
    "                                skip_header=1,\n",
    "                                usecols=[2]).astype(int)\n",
    "Skin_thickness = np.genfromtxt(diabetes_dataset_path,\n",
    "                             delimiter=\",\",\n",
    "                             skip_header=1,\n",
    "                             usecols=[3]).astype(int)\n",
    "Insulin = np.genfromtxt(diabetes_dataset_path,\n",
    "                                 delimiter=\",\",\n",
    "                                 skip_header=1,\n",
    "                                 usecols=[4]).astype(int)\n",
    "BMI = np.genfromtxt(diabetes_dataset_path,\n",
    "                         delimiter=\",\",\n",
    "                         skip_header=1,\n",
    "                         usecols=[5]).astype(float)\n",
    "Pedigree = np.genfromtxt(diabetes_dataset_path,\n",
    "                         delimiter=\",\",\n",
    "                         skip_header=1,\n",
    "                         usecols=[6]).astype(float)\n",
    "Age = np.genfromtxt(diabetes_dataset_path,\n",
    "                         delimiter=\",\",\n",
    "                         skip_header=1,\n",
    "                         usecols=[7]).astype(float)\n",
    "Outcome = np.genfromtxt(diabetes_dataset_path,\n",
    "                         delimiter=\",\",\n",
    "                         skip_header=1,\n",
    "                         usecols=[8]).astype(int)\n",
    "indexes = np.argsort(pregnancies)\n",
    "diabetes_output = Outcome[indexes]\n",
    "diabetes_input = np.c_[pregnancies[indexes],glucose[indexes],Blood_pressure[indexes],Skin_thickness[indexes],Insulin[indexes],BMI[indexes],Pedigree[indexes],Age[indexes]]\n",
    "diabetes_labels = Outcome.reshape(-1, 1)\n",
    "diabetes_input, diabetes_row_of_means, diabetes_row_of_stds = standardise(\n",
    "    diabetes_input)"
   ]
  },
  {
   "cell_type": "code",
   "execution_count": 75,
   "id": "2ae7f71c",
   "metadata": {},
   "outputs": [],
   "source": [
    "def pairwise_distances(from_data, to_data):\n",
    "    return np.sqrt(np.sum((from_data[:, np.newaxis, :] - to_data[np.newaxis, :, :])**2,axis=2))\n"
   ]
  },
  {
   "cell_type": "code",
   "execution_count": 76,
   "id": "1a27ef70",
   "metadata": {},
   "outputs": [],
   "source": [
    "def nearest_neighbour_classification(testing_inputs, training_inputs,training_outputs, no_of_neighbours):\n",
    "    \n",
    "    distances = pairwise_distances(testing_inputs, training_inputs)\n",
    "    \n",
    "    no_of_classes = 1 + np.max(training_outputs)\n",
    "    sorted_indices = np.argsort(distances, axis=1)\n",
    "    \n",
    "    no_of_inputs = len(testing_inputs) \n",
    "    no_of_points = len(training_inputs)\n",
    "    \n",
    "    new_array_to_sort = np.broadcast_to(training_outputs,(no_of_inputs, no_of_points))\n",
    "    \n",
    "    sorted_labels = np.take_along_axis(new_array_to_sort,sorted_indices, 1)\n",
    "    \n",
    "    predicted_labels=np.zeros(no_of_inputs,int)\n",
    "    for id_input in range(no_of_inputs):\n",
    "        \n",
    "        probability_labels=np.zeros(no_of_classes,float)\n",
    "        \n",
    "        for id_neighbor in range(0,no_of_neighbours):\n",
    "            probability_labels[sorted_labels[id_input][id_neighbor]]+=1./no_of_neighbours\n",
    "\n",
    "        predicted_labels[id_input]=np.argmax(probability_labels)\n",
    "    \n",
    "    \n",
    "    return predicted_labels"
   ]
  },
  {
   "cell_type": "code",
   "execution_count": 77,
   "id": "6cd1bed6",
   "metadata": {},
   "outputs": [],
   "source": [
    "def KFold_split(data_size, K):\n",
    "    np.random.seed(123456789)\n",
    "    indexes = np.random.permutation(data_size)\n",
    "    m, r = divmod(data_size, K)\n",
    "    indexes_split = [\n",
    "        indexes[i * m + min(i, r):(i + 1) * m + min(i + 1, r)]\n",
    "        for i in range(K)\n",
    "    ]\n",
    "    return indexes_split\n",
    "\n",
    "\n",
    "def KFold_cross_validation_knn(data_inputs, data_outputs, K, labels_evaluation,\n",
    "                           missclassification_evaluation,knn):\n",
    "    \n",
    "    data_size = len(data_inputs)\n",
    "    indexes_split = KFold_split(data_size, K)\n",
    "\n",
    "    average_accuracy = 0\n",
    "    for i in range(K):\n",
    "        training_indexes = np.concatenate([indexes_split[j] for j in range(K) if (j != i)])\n",
    "        \n",
    "        predicted_labels = labels_evaluation(data_inputs[indexes_split[i]],\n",
    "                                             data_inputs[training_indexes],\n",
    "                                             data_outputs[training_indexes],knn)\n",
    "        \n",
    "        accuracy = missclassification_evaluation(predicted_labels,\n",
    "                                              data_outputs[indexes_split[i]])\n",
    "        average_accuracy += accuracy / K\n",
    "        \n",
    "    error = 1.-average_accuracy\n",
    "    return error"
   ]
  },
  {
   "cell_type": "code",
   "execution_count": 78,
   "id": "6f9297e0",
   "metadata": {},
   "outputs": [],
   "source": [
    "def grid_search(objective, grid):\n",
    "    values = np.array([])\n",
    "    for point in grid:\n",
    "        values = np.append(values, objective(point))\n",
    "    return grid[np.argmin(values)]"
   ]
  },
  {
   "cell_type": "code",
   "execution_count": 79,
   "id": "f3e9fa61",
   "metadata": {},
   "outputs": [],
   "source": [
    "# KNN range, should be around square root our sample size N and K value should be an odd number, in this case 5\n",
    "K=5\n",
    "data_size = len(diabetes_input)\n",
    "Knn = list(range(1,28,1))\n",
    "\n",
    "\n",
    "evaluation = lambda testing_data_inputs,training_data_inputs, training_data_outputs, k: nearest_neighbour_classification(testing_data_inputs,training_data_inputs,training_data_outputs,no_of_neighbours=k)\n",
    "\n",
    "missclassification_evaluation= lambda predicted_labels,true_labels: classification_accuracy(predicted_labels,true_labels)\n",
    "\n",
    "\n",
    "K_objective_function = lambda k: KFold_cross_validation_knn(diabetes_input,diabetes_output, K,evaluation,missclassification_evaluation,k)\n",
    "\n",
    "optimal_no_of_neighbours = grid_search(K_objective_function, Knn)\n",
    "optimal_classification_error = K_objective_function(optimal_no_of_neighbours)"
   ]
  },
  {
   "cell_type": "code",
   "execution_count": 80,
   "id": "ed16e2f7",
   "metadata": {},
   "outputs": [
    {
     "name": "stdout",
     "output_type": "stream",
     "text": [
      "Optimal number of neighbours one needs to consider is equal to 19. \n",
      "In this case the prediction error would be as little as 23.95%.\n"
     ]
    }
   ],
   "source": [
    "print(\"Optimal number of neighbours one needs to consider is equal to {n}. \\nIn this case the prediction error would be as little as {e:2.2f}%.\"\\\n",
    "      .format(n = optimal_no_of_neighbours, e = 100*optimal_classification_error))"
   ]
  },
  {
   "cell_type": "code",
   "execution_count": 81,
   "id": "fca18fe1",
   "metadata": {},
   "outputs": [
    {
     "name": "stdout",
     "output_type": "stream",
     "text": [
      "Optimal number of neighbours one needs to consider is equal to 14. \n",
      "In this case the prediction error would be as little as 22.52%.\n"
     ]
    }
   ],
   "source": [
    "#Testing without the input Skin_Thickness\n",
    "indexes = np.argsort(pregnancies)\n",
    "diabetes_output = Outcome[indexes]\n",
    "diabetes_input = np.c_[pregnancies[indexes],glucose[indexes],Blood_pressure[indexes],Insulin[indexes],BMI[indexes],Pedigree[indexes],Age[indexes]]\n",
    "diabetes_labels = Outcome.reshape(-1, 1)\n",
    "diabetes_input, diabetes_row_of_means, diabetes_row_of_stds = standardise(\n",
    "    diabetes_input)\n",
    "\n",
    "\n",
    "K=5\n",
    "data_size = len(diabetes_input)\n",
    "Knn = list(range(1,28,1))\n",
    "\n",
    "\n",
    "evaluation = lambda testing_data_inputs,training_data_inputs, training_data_outputs, k: nearest_neighbour_classification(testing_data_inputs,training_data_inputs,training_data_outputs,no_of_neighbours=k)\n",
    "\n",
    "missclassification_evaluation= lambda predicted_labels,true_labels: classification_accuracy(predicted_labels,true_labels)\n",
    "\n",
    "\n",
    "K_objective_function = lambda k: KFold_cross_validation_knn(diabetes_input,diabetes_output, K,evaluation,missclassification_evaluation,k)\n",
    "\n",
    "optimal_no_of_neighbours = grid_search(K_objective_function, Knn)\n",
    "optimal_classification_error = K_objective_function(optimal_no_of_neighbours)\n",
    "\n",
    "print(\"Optimal number of neighbours one needs to consider is equal to {n}. \\nIn this case the prediction error would be as little as {e:2.2f}%.\"\\\n",
    "      .format(n = optimal_no_of_neighbours, e = 100*optimal_classification_error))\n"
   ]
  },
  {
   "cell_type": "code",
   "execution_count": 82,
   "id": "da2dc7d3",
   "metadata": {},
   "outputs": [
    {
     "name": "stdout",
     "output_type": "stream",
     "text": [
      "Optimal number of neighbours one needs to consider is equal to 7. \n",
      "In this case the prediction error would be as little as 28.91%.\n"
     ]
    }
   ],
   "source": [
    "#Testing without the input GLucose\n",
    "indexes = np.argsort(pregnancies)\n",
    "diabetes_output = Outcome[indexes]\n",
    "diabetes_input = np.c_[pregnancies[indexes],Blood_pressure[indexes],Skin_thickness[indexes],Insulin[indexes],BMI[indexes],Pedigree[indexes],Age[indexes]]\n",
    "diabetes_labels = Outcome.reshape(-1, 1)\n",
    "diabetes_input, diabetes_row_of_means, diabetes_row_of_stds = standardise(\n",
    "    diabetes_input)\n",
    "\n",
    "\n",
    "K=5\n",
    "data_size = len(diabetes_input)\n",
    "Knn = list(range(1,28,1))\n",
    "\n",
    "\n",
    "evaluation = lambda testing_data_inputs,training_data_inputs, training_data_outputs, k: nearest_neighbour_classification(testing_data_inputs,training_data_inputs,training_data_outputs,no_of_neighbours=k)\n",
    "\n",
    "missclassification_evaluation= lambda predicted_labels,true_labels: classification_accuracy(predicted_labels,true_labels)\n",
    "\n",
    "\n",
    "K_objective_function = lambda k: KFold_cross_validation_knn(diabetes_input,diabetes_output, K,evaluation,missclassification_evaluation,k)\n",
    "\n",
    "optimal_no_of_neighbours = grid_search(K_objective_function, Knn)\n",
    "optimal_classification_error = K_objective_function(optimal_no_of_neighbours)\n",
    "\n",
    "print(\"Optimal number of neighbours one needs to consider is equal to {n}. \\nIn this case the prediction error would be as little as {e:2.2f}%.\"\\\n",
    "      .format(n = optimal_no_of_neighbours, e = 100*optimal_classification_error))\n"
   ]
  },
  {
   "cell_type": "code",
   "execution_count": 83,
   "id": "f3561d81",
   "metadata": {},
   "outputs": [
    {
     "name": "stdout",
     "output_type": "stream",
     "text": [
      "Optimal number of neighbours one needs to consider is equal to 21. \n",
      "In this case the prediction error would be as little as 22.53%.\n"
     ]
    }
   ],
   "source": [
    "#Testing without the inputs, Skin_thickness and Blood Pressure\n",
    "indexes = np.argsort(pregnancies)\n",
    "diabetes_output = Outcome[indexes]\n",
    "diabetes_input = np.c_[pregnancies[indexes],glucose[indexes],Pedigree[indexes],Insulin[indexes],BMI[indexes],Age[indexes]]\n",
    "diabetes_labels = Outcome.reshape(-1, 1)\n",
    "diabetes_input, diabetes_row_of_means, diabetes_row_of_stds = standardise(\n",
    "    diabetes_input)\n",
    "\n",
    "\n",
    "K=5\n",
    "data_size = len(diabetes_input)\n",
    "Knn = list(range(1,28,1))\n",
    "\n",
    "\n",
    "evaluation = lambda testing_data_inputs,training_data_inputs, training_data_outputs, k: nearest_neighbour_classification(testing_data_inputs,training_data_inputs,training_data_outputs,no_of_neighbours=k)\n",
    "\n",
    "missclassification_evaluation= lambda predicted_labels,true_labels: classification_accuracy(predicted_labels,true_labels)\n",
    "\n",
    "\n",
    "K_objective_function = lambda k: KFold_cross_validation_knn(diabetes_input,diabetes_output, K,evaluation,missclassification_evaluation,k)\n",
    "\n",
    "optimal_no_of_neighbours = grid_search(K_objective_function, Knn)\n",
    "optimal_classification_error = K_objective_function(optimal_no_of_neighbours)\n",
    "\n",
    "print(\"Optimal number of neighbours one needs to consider is equal to {n}. \\nIn this case the prediction error would be as little as {e:2.2f}%.\"\\\n",
    "      .format(n = optimal_no_of_neighbours, e = 100*optimal_classification_error))\n"
   ]
  }
 ],
 "metadata": {
  "kernelspec": {
   "display_name": "Python 3 (ipykernel)",
   "language": "python",
   "name": "python3"
  },
  "language_info": {
   "codemirror_mode": {
    "name": "ipython",
    "version": 3
   },
   "file_extension": ".py",
   "mimetype": "text/x-python",
   "name": "python",
   "nbconvert_exporter": "python",
   "pygments_lexer": "ipython3",
   "version": "3.9.12"
  }
 },
 "nbformat": 4,
 "nbformat_minor": 5
}
